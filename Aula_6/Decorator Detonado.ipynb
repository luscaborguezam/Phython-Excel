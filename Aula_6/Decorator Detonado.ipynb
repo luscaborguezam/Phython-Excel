{
 "cells": [
  {
   "cell_type": "markdown",
   "id": "219bf12e",
   "metadata": {},
   "source": [
    "# DECORATORS\n",
    "\n",
    "## Decoradores de Função,modificadores de comportamento"
   ]
  },
  {
   "cell_type": "code",
   "execution_count": 1,
   "id": "f0753f20",
   "metadata": {},
   "outputs": [
    {
     "name": "stdout",
     "output_type": "stream",
     "text": [
      "dados\n"
     ]
    }
   ],
   "source": [
    "# Em termos de lambda\n",
    "\n",
    "func = lambda : print\n",
    "func()(\"dados\")"
   ]
  },
  {
   "cell_type": "code",
   "execution_count": 7,
   "id": "cbb67949",
   "metadata": {},
   "outputs": [
    {
     "data": {
      "text/plain": [
       "<function __main__.func_externa.<locals>.func_interna()>"
      ]
     },
     "execution_count": 7,
     "metadata": {},
     "output_type": "execute_result"
    }
   ],
   "source": [
    "# Em termos de uma função simples\n",
    "\n",
    "def func_externa(func):\n",
    "    def func_interna():\n",
    "        # coisa antes\n",
    "        func()\n",
    "        # coisas depois\n",
    "    return func_interna\n",
    "\n",
    "func_externa(print)"
   ]
  },
  {
   "cell_type": "code",
   "execution_count": 9,
   "id": "93e26726",
   "metadata": {},
   "outputs": [],
   "source": [
    "# Em termos de decorator com a nomenclatura correta\n",
    "import functools\n",
    "from functools import cache\n",
    "\n",
    "# @functools.cache\n",
    "@cache\n",
    "def fibonacci():\n",
    "    pass\n",
    "\n",
    "fibonacci()"
   ]
  },
  {
   "cell_type": "markdown",
   "id": "0dd9e820",
   "metadata": {},
   "source": [
    "## Criando nosso decorator"
   ]
  },
  {
   "cell_type": "markdown",
   "id": "07c5e913",
   "metadata": {},
   "source": [
    "### Criando uma função soma"
   ]
  },
  {
   "cell_type": "code",
   "execution_count": 16,
   "id": "3aa601f5",
   "metadata": {},
   "outputs": [
    {
     "ename": "TypeError",
     "evalue": "can only concatenate str (not \"int\") to str",
     "output_type": "error",
     "traceback": [
      "\u001b[1;31m---------------------------------------------------------------------------\u001b[0m",
      "\u001b[1;31mTypeError\u001b[0m                                 Traceback (most recent call last)",
      "\u001b[1;32mC:\\Users\\FATECS~1\\AppData\\Local\\Temp/ipykernel_10668/431770021.py\u001b[0m in \u001b[0;36m<module>\u001b[1;34m\u001b[0m\n\u001b[0;32m      2\u001b[0m     \u001b[1;32mreturn\u001b[0m \u001b[0mnum1\u001b[0m \u001b[1;33m+\u001b[0m \u001b[0mnum2\u001b[0m\u001b[1;33m\u001b[0m\u001b[1;33m\u001b[0m\u001b[0m\n\u001b[0;32m      3\u001b[0m \u001b[1;33m\u001b[0m\u001b[0m\n\u001b[1;32m----> 4\u001b[1;33m \u001b[0mpscina\u001b[0m\u001b[1;33m(\u001b[0m\u001b[1;34m\"5\"\u001b[0m\u001b[1;33m,\u001b[0m\u001b[1;36m2\u001b[0m\u001b[1;33m)\u001b[0m\u001b[1;33m\u001b[0m\u001b[1;33m\u001b[0m\u001b[0m\n\u001b[0m",
      "\u001b[1;32mC:\\Users\\FATECS~1\\AppData\\Local\\Temp/ipykernel_10668/431770021.py\u001b[0m in \u001b[0;36mpscina\u001b[1;34m(num1, num2)\u001b[0m\n\u001b[0;32m      1\u001b[0m \u001b[1;32mdef\u001b[0m \u001b[0mpscina\u001b[0m\u001b[1;33m(\u001b[0m\u001b[0mnum1\u001b[0m\u001b[1;33m,\u001b[0m\u001b[0mnum2\u001b[0m\u001b[1;33m)\u001b[0m\u001b[1;33m:\u001b[0m\u001b[1;33m\u001b[0m\u001b[1;33m\u001b[0m\u001b[0m\n\u001b[1;32m----> 2\u001b[1;33m     \u001b[1;32mreturn\u001b[0m \u001b[0mnum1\u001b[0m \u001b[1;33m+\u001b[0m \u001b[0mnum2\u001b[0m\u001b[1;33m\u001b[0m\u001b[1;33m\u001b[0m\u001b[0m\n\u001b[0m\u001b[0;32m      3\u001b[0m \u001b[1;33m\u001b[0m\u001b[0m\n\u001b[0;32m      4\u001b[0m \u001b[0mpscina\u001b[0m\u001b[1;33m(\u001b[0m\u001b[1;34m\"5\"\u001b[0m\u001b[1;33m,\u001b[0m\u001b[1;36m2\u001b[0m\u001b[1;33m)\u001b[0m\u001b[1;33m\u001b[0m\u001b[1;33m\u001b[0m\u001b[0m\n",
      "\u001b[1;31mTypeError\u001b[0m: can only concatenate str (not \"int\") to str"
     ]
    }
   ],
   "source": [
    "def piscina(num1,num2):\n",
    "    return num1 + num2\n",
    "\n",
    "piscina(\"5\",2)"
   ]
  },
  {
   "cell_type": "code",
   "execution_count": 22,
   "id": "46a1f0e7",
   "metadata": {},
   "outputs": [
    {
     "data": {
      "text/plain": [
       "'Operação não suportada: can only concatenate str (not \"int\") to str'"
      ]
     },
     "execution_count": 22,
     "metadata": {},
     "output_type": "execute_result"
    }
   ],
   "source": [
    "# função que permite o usuário usar a piscina\n",
    "\n",
    "def piscina(num1,num2):\n",
    "    try:\n",
    "        return num1 + num2\n",
    "    except Exception as err:\n",
    "        # usuário entrou na piscina\n",
    "        return f\"Operação não suportada: {err}\"\n",
    "\n",
    "piscina(\"5\",2)"
   ]
  },
  {
   "cell_type": "code",
   "execution_count": 37,
   "id": "c7ef6c9b",
   "metadata": {},
   "outputs": [
    {
     "ename": "TypeError",
     "evalue": "unsupported operand type(s) for +: 'int' and 'str'",
     "output_type": "error",
     "traceback": [
      "\u001b[1;31m---------------------------------------------------------------------------\u001b[0m",
      "\u001b[1;31mTypeError\u001b[0m                                 Traceback (most recent call last)",
      "\u001b[1;32mC:\\Users\\FATECS~1\\AppData\\Local\\Temp/ipykernel_10668/2841669143.py\u001b[0m in \u001b[0;36m<module>\u001b[1;34m\u001b[0m\n\u001b[0;32m     11\u001b[0m \u001b[1;33m\u001b[0m\u001b[0m\n\u001b[0;32m     12\u001b[0m \u001b[1;33m\u001b[0m\u001b[0m\n\u001b[1;32m---> 13\u001b[1;33m \u001b[0mpaciente\u001b[0m\u001b[1;33m(\u001b[0m\u001b[1;36m2\u001b[0m\u001b[1;33m)\u001b[0m\u001b[1;33m\u001b[0m\u001b[1;33m\u001b[0m\u001b[0m\n\u001b[0m",
      "\u001b[1;32mC:\\Users\\FATECS~1\\AppData\\Local\\Temp/ipykernel_10668/2841669143.py\u001b[0m in \u001b[0;36mmedico\u001b[1;34m(formulario)\u001b[0m\n\u001b[0;32m      3\u001b[0m \u001b[1;32mdef\u001b[0m \u001b[0mexame\u001b[0m\u001b[1;33m(\u001b[0m\u001b[0mpaciente\u001b[0m\u001b[1;33m)\u001b[0m\u001b[1;33m:\u001b[0m\u001b[1;33m\u001b[0m\u001b[1;33m\u001b[0m\u001b[0m\n\u001b[0;32m      4\u001b[0m     \u001b[1;32mdef\u001b[0m \u001b[0mmedico\u001b[0m\u001b[1;33m(\u001b[0m\u001b[0mformulario\u001b[0m\u001b[1;33m)\u001b[0m\u001b[1;33m:\u001b[0m \u001b[1;31m# papeis do exame\u001b[0m\u001b[1;33m\u001b[0m\u001b[1;33m\u001b[0m\u001b[0m\n\u001b[1;32m----> 5\u001b[1;33m         \u001b[0mpaciente\u001b[0m\u001b[1;33m(\u001b[0m\u001b[0mformulario\u001b[0m\u001b[1;33m)\u001b[0m\u001b[1;33m\u001b[0m\u001b[1;33m\u001b[0m\u001b[0m\n\u001b[0m\u001b[0;32m      6\u001b[0m     \u001b[1;32mreturn\u001b[0m \u001b[0mmedico\u001b[0m\u001b[1;33m\u001b[0m\u001b[1;33m\u001b[0m\u001b[0m\n\u001b[0;32m      7\u001b[0m \u001b[1;33m\u001b[0m\u001b[0m\n",
      "\u001b[1;32mC:\\Users\\FATECS~1\\AppData\\Local\\Temp/ipykernel_10668/2841669143.py\u001b[0m in \u001b[0;36mpaciente\u001b[1;34m(formularioPreenchido)\u001b[0m\n\u001b[0;32m      8\u001b[0m \u001b[1;33m@\u001b[0m\u001b[0mexame\u001b[0m\u001b[1;33m\u001b[0m\u001b[1;33m\u001b[0m\u001b[0m\n\u001b[0;32m      9\u001b[0m \u001b[1;32mdef\u001b[0m \u001b[0mpaciente\u001b[0m\u001b[1;33m(\u001b[0m\u001b[0mformularioPreenchido\u001b[0m\u001b[1;33m)\u001b[0m\u001b[1;33m:\u001b[0m\u001b[1;33m\u001b[0m\u001b[1;33m\u001b[0m\u001b[0m\n\u001b[1;32m---> 10\u001b[1;33m     \u001b[1;36m1\u001b[0m \u001b[1;33m+\u001b[0m \u001b[1;34m\"2\"\u001b[0m\u001b[1;33m\u001b[0m\u001b[1;33m\u001b[0m\u001b[0m\n\u001b[0m\u001b[0;32m     11\u001b[0m \u001b[1;33m\u001b[0m\u001b[0m\n\u001b[0;32m     12\u001b[0m \u001b[1;33m\u001b[0m\u001b[0m\n",
      "\u001b[1;31mTypeError\u001b[0m: unsupported operand type(s) for +: 'int' and 'str'"
     ]
    }
   ],
   "source": [
    "# exame que verifica se o usuário está apto a nadar \n",
    "\n",
    "def exame(paciente):\n",
    "    def medico(formulario): # papeis do exame\n",
    "        print(\"REALIZANDO EXAME\")\n",
    "        paciente(formulario)\n",
    "        print(\"EXAME REALIZADO\")\n",
    "    return medico\n",
    "\n",
    "@exame\n",
    "def paciente(formularioPreenchido):\n",
    "    1 + \"2\"\n",
    "\n",
    "\n",
    "paciente(2)"
   ]
  },
  {
   "cell_type": "markdown",
   "id": "cb51bcff",
   "metadata": {},
   "source": [
    "## Entendo mais sobre informações\n",
    "\n",
    "* Funções com parâmetro"
   ]
  },
  {
   "cell_type": "code",
   "execution_count": null,
   "id": "0d41e990",
   "metadata": {},
   "outputs": [],
   "source": [
    "def func(param): #valor rígido\n",
    "    pass"
   ]
  },
  {
   "cell_type": "markdown",
   "id": "06cec520",
   "metadata": {},
   "source": [
    "* Função sem parâmetro"
   ]
  },
  {
   "cell_type": "code",
   "execution_count": 40,
   "id": "f9eb3dd2",
   "metadata": {},
   "outputs": [],
   "source": [
    "def func(): #sem valor\n",
    "    pass"
   ]
  },
  {
   "cell_type": "markdown",
   "id": "8d22e112",
   "metadata": {},
   "source": [
    "* Função dinâmica"
   ]
  },
  {
   "cell_type": "code",
   "execution_count": 7,
   "id": "bec5c6c5",
   "metadata": {},
   "outputs": [
    {
     "name": "stdout",
     "output_type": "stream",
     "text": [
      "4\n",
      "1\n",
      "3\n",
      "4\n",
      "2.4\n",
      "texto\n"
     ]
    }
   ],
   "source": [
    "def func(*args): #desempacotador / aceita todo tipo de variável e quantidade infinita\n",
    "    for valor in args:\n",
    "        print(valor)\n",
    "\n",
    "func(4, 1, 3, 4, 2.4, \"texto\")"
   ]
  },
  {
   "cell_type": "code",
   "execution_count": 20,
   "id": "23ad24a1",
   "metadata": {},
   "outputs": [
    {
     "name": "stdout",
     "output_type": "stream",
     "text": [
      "Essa chave é: Lucas\n",
      "E esse valor é: aluno\n"
     ]
    }
   ],
   "source": [
    "def func2(*args, **kwargs):\n",
    "    for valor, chave in kwargs.items():\n",
    "        print(f\"Essa chave é: {chave}\")\n",
    "        print(f\"E esse valor é: {valor}\")\n",
    "        \n",
    "        \n",
    "func2(aluno= \"Lucas\")"
   ]
  },
  {
   "cell_type": "code",
   "execution_count": 27,
   "id": "409c20e8",
   "metadata": {},
   "outputs": [
    {
     "name": "stdout",
     "output_type": "stream",
     "text": [
      "Requirement already satisfied: Flask in c:\\users\\fatecsdp-ti\\appdata\\local\\programs\\python\\python39\\lib\\site-packages (2.1.2)\n",
      "Requirement already satisfied: importlib-metadata>=3.6.0 in c:\\users\\fatecsdp-ti\\appdata\\local\\programs\\python\\python39\\lib\\site-packages (from Flask) (4.11.3)\n",
      "Requirement already satisfied: Jinja2>=3.0 in c:\\users\\fatecsdp-ti\\appdata\\local\\programs\\python\\python39\\lib\\site-packages (from Flask) (3.1.1)\n",
      "Requirement already satisfied: itsdangerous>=2.0 in c:\\users\\fatecsdp-ti\\appdata\\local\\programs\\python\\python39\\lib\\site-packages (from Flask) (2.1.2)\n",
      "Requirement already satisfied: Werkzeug>=2.0 in c:\\users\\fatecsdp-ti\\appdata\\local\\programs\\python\\python39\\lib\\site-packages (from Flask) (2.1.2)\n",
      "Requirement already satisfied: click>=8.0 in c:\\users\\fatecsdp-ti\\appdata\\local\\programs\\python\\python39\\lib\\site-packages (from Flask) (8.1.3)\n",
      "Requirement already satisfied: colorama in c:\\users\\fatecsdp-ti\\appdata\\local\\programs\\python\\python39\\lib\\site-packages (from click>=8.0->Flask) (0.4.4)\n",
      "Requirement already satisfied: zipp>=0.5 in c:\\users\\fatecsdp-ti\\appdata\\local\\programs\\python\\python39\\lib\\site-packages (from importlib-metadata>=3.6.0->Flask) (3.8.0)\n",
      "Requirement already satisfied: MarkupSafe>=2.0 in c:\\users\\fatecsdp-ti\\appdata\\local\\programs\\python\\python39\\lib\\site-packages (from Jinja2>=3.0->Flask) (2.1.1)\n"
     ]
    }
   ],
   "source": [
    "!pip install Flask"
   ]
  },
  {
   "cell_type": "code",
   "execution_count": null,
   "id": "2946c473",
   "metadata": {},
   "outputs": [],
   "source": []
  }
 ],
 "metadata": {
  "kernelspec": {
   "display_name": "Python 3 (ipykernel)",
   "language": "python",
   "name": "python3"
  },
  "language_info": {
   "codemirror_mode": {
    "name": "ipython",
    "version": 3
   },
   "file_extension": ".py",
   "mimetype": "text/x-python",
   "name": "python",
   "nbconvert_exporter": "python",
   "pygments_lexer": "ipython3",
   "version": "3.9.6"
  }
 },
 "nbformat": 4,
 "nbformat_minor": 5
}

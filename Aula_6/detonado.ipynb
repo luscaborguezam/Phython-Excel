{
 "cells": [
  {
   "cell_type": "markdown",
   "id": "c2872525",
   "metadata": {},
   "source": [
    "# DECORATORS\n",
    "\n",
    "\n",
    "### Decoradores de função, modificadores de comportamento (processos)"
   ]
  },
  {
   "cell_type": "code",
   "execution_count": null,
   "id": "c1089c6a",
   "metadata": {},
   "outputs": [],
   "source": [
    "# Em termos de lambda\n",
    "\n",
    "uma_funcao = lambda : print\n",
    "uma_funcao()(\"Dados\") #print(\"dados\")\n"
   ]
  },
  {
   "cell_type": "code",
   "execution_count": null,
   "id": "c1d7c4a3",
   "metadata": {},
   "outputs": [],
   "source": [
    "# Em termos de uma função simples\n",
    "def funcao_externa(func):\n",
    "    def funcao_interna():\n",
    "        #coisas antes\n",
    "        func()\n",
    "        #coisas depois\n",
    "    return funcao_interna\n",
    "\n",
    "funcao_externa(print)\n"
   ]
  },
  {
   "cell_type": "code",
   "execution_count": 18,
   "id": "97b839c3",
   "metadata": {},
   "outputs": [],
   "source": [
    "# em termos de decorators com a nomenclatura correta\n",
    "import functools # ou\n",
    "from functools import cache\n",
    "\n",
    "@functools.cache \n",
    "@cache # cache ajuda no processamento linear (processamento óbvios ex: 10, 11\n",
    "def fibonacci():\n",
    "    pass\n",
    "\n",
    "fibonacci()\n",
    "    "
   ]
  },
  {
   "cell_type": "markdown",
   "id": "ddcc94c1",
   "metadata": {},
   "source": [
    "# Criando nosso Decorator"
   ]
  },
  {
   "cell_type": "markdown",
   "id": "b20e26af",
   "metadata": {},
   "source": [
    "## Criando uma função"
   ]
  },
  {
   "cell_type": "code",
   "execution_count": 36,
   "id": "3a7f6c7a",
   "metadata": {},
   "outputs": [
    {
     "ename": "TypeError",
     "evalue": "unsupported operand type(s) for +: 'int' and 'str'",
     "output_type": "error",
     "traceback": [
      "\u001b[1;31m---------------------------------------------------------------------------\u001b[0m",
      "\u001b[1;31mTypeError\u001b[0m                                 Traceback (most recent call last)",
      "Input \u001b[1;32mIn [36]\u001b[0m, in \u001b[0;36m<cell line: 4>\u001b[1;34m()\u001b[0m\n\u001b[0;32m      1\u001b[0m \u001b[38;5;28;01mdef\u001b[39;00m \u001b[38;5;21mpiscina\u001b[39m(val_1, val_2):\n\u001b[0;32m      2\u001b[0m     \u001b[38;5;28;01mreturn\u001b[39;00m val_1 \u001b[38;5;241m+\u001b[39m val_2\n\u001b[1;32m----> 4\u001b[0m \u001b[43msoma\u001b[49m\u001b[43m(\u001b[49m\u001b[38;5;241;43m1\u001b[39;49m\u001b[43m,\u001b[49m\u001b[43m \u001b[49m\u001b[38;5;124;43m\"\u001b[39;49m\u001b[38;5;124;43m2\u001b[39;49m\u001b[38;5;124;43m\"\u001b[39;49m\u001b[43m)\u001b[49m\n",
      "Input \u001b[1;32mIn [25]\u001b[0m, in \u001b[0;36msoma\u001b[1;34m(val_1, val_2)\u001b[0m\n\u001b[0;32m      1\u001b[0m \u001b[38;5;28;01mdef\u001b[39;00m \u001b[38;5;21msoma\u001b[39m(val_1, val_2):\n\u001b[1;32m----> 2\u001b[0m     \u001b[38;5;28;01mreturn\u001b[39;00m \u001b[43mval_1\u001b[49m\u001b[43m \u001b[49m\u001b[38;5;241;43m+\u001b[39;49m\u001b[43m \u001b[49m\u001b[43mval_2\u001b[49m\n",
      "\u001b[1;31mTypeError\u001b[0m: unsupported operand type(s) for +: 'int' and 'str'"
     ]
    }
   ],
   "source": [
    "def piscina(val_1, val_2):\n",
    "    return val_1 + val_2\n",
    "\n",
    "soma(1, \"2\")\n"
   ]
  },
  {
   "cell_type": "code",
   "execution_count": 37,
   "id": "b6ebd9a0",
   "metadata": {},
   "outputs": [
    {
     "data": {
      "text/plain": [
       "\"Operação não suportada: unsupported operand type(s) for +: 'int' and 'str'\""
      ]
     },
     "execution_count": 37,
     "metadata": {},
     "output_type": "execute_result"
    }
   ],
   "source": [
    "# Função que permite usuários utilizarem a pscina\n",
    "def piscina(val_1, val_2):\n",
    "    try: # Tentar retornar a soma\n",
    "        return val_1 + val_2\n",
    "    except Exception as err: # caso contrário\n",
    "        #usuário entrou na piscina\n",
    "        return f\"Operação não suportada: {err}\"\n",
    "    \n",
    "piscina(1, \"2\")\n"
   ]
  },
  {
   "cell_type": "code",
   "execution_count": 1,
   "id": "a4d7f68d",
   "metadata": {},
   "outputs": [
    {
     "name": "stdout",
     "output_type": "stream",
     "text": [
      "REALIZANDO EXAME\n"
     ]
    },
    {
     "ename": "TypeError",
     "evalue": "unsupported operand type(s) for +: 'int' and 'str'",
     "output_type": "error",
     "traceback": [
      "\u001b[1;31m---------------------------------------------------------------------------\u001b[0m",
      "\u001b[1;31mTypeError\u001b[0m                                 Traceback (most recent call last)",
      "Input \u001b[1;32mIn [1]\u001b[0m, in \u001b[0;36m<cell line: 14>\u001b[1;34m()\u001b[0m\n\u001b[0;32m     10\u001b[0m \u001b[38;5;129m@exame\u001b[39m\n\u001b[0;32m     11\u001b[0m \u001b[38;5;28;01mdef\u001b[39;00m \u001b[38;5;21mpaciente\u001b[39m(formulario_preenchido):\n\u001b[0;32m     12\u001b[0m     \u001b[38;5;241m1\u001b[39m \u001b[38;5;241m+\u001b[39m \u001b[38;5;124m\"\u001b[39m\u001b[38;5;124m2\u001b[39m\u001b[38;5;124m\"\u001b[39m\n\u001b[1;32m---> 14\u001b[0m \u001b[43mpaciente\u001b[49m\u001b[43m(\u001b[49m\u001b[38;5;241;43m2\u001b[39;49m\u001b[43m)\u001b[49m\n",
      "Input \u001b[1;32mIn [1]\u001b[0m, in \u001b[0;36mexame.<locals>.medico\u001b[1;34m(formulario)\u001b[0m\n\u001b[0;32m      4\u001b[0m \u001b[38;5;28;01mdef\u001b[39;00m \u001b[38;5;21mmedico\u001b[39m(formulario): \u001b[38;5;66;03m# papeis do exame\u001b[39;00m\n\u001b[0;32m      5\u001b[0m     \u001b[38;5;28mprint\u001b[39m(\u001b[38;5;124m\"\u001b[39m\u001b[38;5;124mREALIZANDO EXAME\u001b[39m\u001b[38;5;124m\"\u001b[39m)\n\u001b[1;32m----> 6\u001b[0m     \u001b[43mpaciente\u001b[49m\u001b[43m(\u001b[49m\u001b[43mformulario\u001b[49m\u001b[43m)\u001b[49m\n\u001b[0;32m      7\u001b[0m     \u001b[38;5;28mprint\u001b[39m(\u001b[38;5;124m\"\u001b[39m\u001b[38;5;124mEXAME REALIZADO\u001b[39m\u001b[38;5;124m\"\u001b[39m)\n",
      "Input \u001b[1;32mIn [1]\u001b[0m, in \u001b[0;36mpaciente\u001b[1;34m(formulario_preenchido)\u001b[0m\n\u001b[0;32m     10\u001b[0m \u001b[38;5;129m@exame\u001b[39m\n\u001b[0;32m     11\u001b[0m \u001b[38;5;28;01mdef\u001b[39;00m \u001b[38;5;21mpaciente\u001b[39m(formulario_preenchido):\n\u001b[1;32m---> 12\u001b[0m     \u001b[38;5;241;43m1\u001b[39;49m\u001b[43m \u001b[49m\u001b[38;5;241;43m+\u001b[39;49m\u001b[43m \u001b[49m\u001b[38;5;124;43m\"\u001b[39;49m\u001b[38;5;124;43m2\u001b[39;49m\u001b[38;5;124;43m\"\u001b[39;49m\n",
      "\u001b[1;31mTypeError\u001b[0m: unsupported operand type(s) for +: 'int' and 'str'"
     ]
    }
   ],
   "source": [
    "# Função que verifica se o usuário está apto a nadar\n",
    "\n",
    "def exame(paciente):\n",
    "    def medico(formulario): # papeis do exame\n",
    "        print(\"REALIZANDO EXAME\")\n",
    "        paciente(formulario)\n",
    "        print(\"EXAME REALIZADO\")\n",
    "    return medico\n",
    "\n",
    "@exame\n",
    "def paciente(formulario_preenchido):\n",
    "    1 + \"2\"\n",
    "\n",
    "paciente(2)\n"
   ]
  },
  {
   "cell_type": "markdown",
   "id": "59efc439",
   "metadata": {},
   "source": [
    "## Entendo mais sobre Funções\n",
    "\n",
    "* Funções com parâmetro"
   ]
  },
  {
   "cell_type": "code",
   "execution_count": 2,
   "id": "86226d02",
   "metadata": {},
   "outputs": [],
   "source": [
    "def func(param): #valor rígido\n",
    "    pass"
   ]
  },
  {
   "cell_type": "markdown",
   "id": "9edea78a",
   "metadata": {},
   "source": [
    "* Função sem parâmetro"
   ]
  },
  {
   "cell_type": "code",
   "execution_count": 3,
   "id": "4a602f3a",
   "metadata": {},
   "outputs": [],
   "source": [
    "def func(): #sem valor\n",
    "    pass"
   ]
  },
  {
   "cell_type": "markdown",
   "id": "6186461e",
   "metadata": {},
   "source": [
    "* Função dinâmica"
   ]
  },
  {
   "cell_type": "code",
   "execution_count": 4,
   "id": "ed9320b1",
   "metadata": {},
   "outputs": [
    {
     "name": "stdout",
     "output_type": "stream",
     "text": [
      "4\n",
      "1\n",
      "3\n",
      "4\n",
      "2.4\n",
      "texto\n"
     ]
    }
   ],
   "source": [
    "def func(*args): #desempacotador / aceita todo tipo de variável e quantidade infinita\n",
    "    for valor in args:\n",
    "        print(valor)\n",
    "\n",
    "func(4, 1, 3, 4, 2.4, \"texto\")"
   ]
  },
  {
   "cell_type": "code",
   "execution_count": 5,
   "id": "54a8f510",
   "metadata": {},
   "outputs": [
    {
     "name": "stdout",
     "output_type": "stream",
     "text": [
      "Essa chave é: Lucas\n",
      "E esse valor é: aluno\n"
     ]
    }
   ],
   "source": [
    "def func2(*args, **kwargs):\n",
    "    for valor, chave in kwargs.items():\n",
    "        print(f\"Essa chave é: {chave}\")\n",
    "        print(f\"E esse valor é: {valor}\")\n",
    "        \n",
    "        \n",
    "func2(aluno= \"Lucas\")"
   ]
  },
  {
   "cell_type": "code",
   "execution_count": null,
   "id": "7edf9682",
   "metadata": {},
   "outputs": [],
   "source": [
    "!pip install Flask"
   ]
  }
 ],
 "metadata": {
  "kernelspec": {
   "display_name": "Python 3 (ipykernel)",
   "language": "python",
   "name": "python3"
  },
  "language_info": {
   "codemirror_mode": {
    "name": "ipython",
    "version": 3
   },
   "file_extension": ".py",
   "mimetype": "text/x-python",
   "name": "python",
   "nbconvert_exporter": "python",
   "pygments_lexer": "ipython3",
   "version": "3.9.6"
  }
 },
 "nbformat": 4,
 "nbformat_minor": 5
}

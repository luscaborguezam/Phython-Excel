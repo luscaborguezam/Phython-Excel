{
 "cells": [
  {
   "cell_type": "markdown",
   "id": "fe196a79",
   "metadata": {},
   "source": [
    "# Coisas Importantes"
   ]
  },
  {
   "cell_type": "markdown",
   "id": "3f38484d",
   "metadata": {},
   "source": [
    "O Código fonte deve ser rigorozamente seguido.\n",
    "\n",
    "e.g\n",
    "* 1 Respeite a identação(espaços)\n",
    "não faça isso :\n",
    "eu bola gosto bater mim portão\n",
    "\n",
    "int main(){\n",
    "    ljihlkdf;\n",
    "        kkjhkjh;\n",
    "}\n",
    "\n",
    "* 2 Não adicione espaços nas funções e nos objetos\n",
    "Correto:\n",
    "\n",
    "print(1) \n",
    "\n",
    "Errado:\n",
    "\n",
    "print (1)\n",
    "\n",
    "print( 1 )\n",
    "\n",
    "* 3 Contudo, adicione espaço entre variáveis e valores, e entre valores e valores\n",
    "Correto:\n",
    "\n",
    "variavel = 4\n",
    "\n",
    "3 + 3\n",
    "\n",
    "Errado:\n",
    "\n",
    "variavel=4\n",
    "\n",
    "3+3"
   ]
  },
  {
   "cell_type": "markdown",
   "id": "d8aeecfd",
   "metadata": {},
   "source": [
    "# DRY"
   ]
  },
  {
   "cell_type": "code",
   "execution_count": null,
   "id": "2026dbd4",
   "metadata": {},
   "outputs": [],
   "source": [
    "#Do not Repeat yourself (Evite repetições)\n",
    "\n",
    "print(\"Olá estranho, seja bem-vindo:\")\n",
    "print(\"Selecione as opções abaixo\")\n",
    "\n",
    "print(\"[1] - Café\")\n",
    "print(\"[2] - Cappucino\")\n",
    "print(\"[3] - Macchiato\")\n",
    "print(\"[4] - Espresso\")\n",
    "print(\"[5] - Chá\")\n",
    "\n",
    "opcao = input(\">>> \")"
   ]
  },
  {
   "cell_type": "markdown",
   "id": "d54388a0",
   "metadata": {},
   "source": [
    "## LAÇO DE REPETIÇÃO"
   ]
  },
  {
   "cell_type": "code",
   "execution_count": 36,
   "id": "00b3c8b0",
   "metadata": {
    "scrolled": true
   },
   "outputs": [
    {
     "name": "stdout",
     "output_type": "stream",
     "text": [
      "=^^=\n",
      "=^^=\n",
      "\n"
     ]
    }
   ],
   "source": [
    "# jeito cavalo =^^=\n",
    "print(\"=^^=\\n\"*2)"
   ]
  },
  {
   "cell_type": "markdown",
   "id": "7f1500b4",
   "metadata": {},
   "source": [
    "# ESTRUTURA DE REPETIÇÂO FOR(ITERADOR)\n",
    "\n",
    "**for** *variavel* *ITERAVEL* \n",
    "\n",
    "\"**Para cada elemento** (for) **dentro do ** *ITERAVEL*  salve temporariamente\n",
    "o valor contido no *ITERAVEL* na variável 'variável'\"\n",
    "\n",
    "\"Execute o código abaixo o mesmo tanto de vezes que o tamanho do ITERAVEL\""
   ]
  },
  {
   "cell_type": "code",
   "execution_count": 38,
   "id": "0850f0f8",
   "metadata": {},
   "outputs": [],
   "source": [
    "# Iteraveis (Geralmente tem nome no plural)\n",
    "\n",
    "listas = [1, \"textos\", []] # as listas aceitam quaisquer objetos que o python suporta\n",
    "textos = \"O rato roeu a ropa do rei de roma\"\n",
    "tuplas = (1, \"textos\", []) # tuplas aceitam quaisquer objetos\n",
    "# Tupla é IMUTAVEL\n",
    "dicionario_de_uma_linha = {\"Chave\":\"Valor\", \"dog\":\"cachorro\"}\n",
    "dicionario_de_varias_linha = {\n",
    "    \"Chave\":\"Valor\", \n",
    "    \"dog\":\"cachorro\"\n",
    "}\n",
    "\n",
    "alcance_escopo = range =10 #escopo é limite"
   ]
  },
  {
   "cell_type": "markdown",
   "id": "30b3510a",
   "metadata": {},
   "source": [
    "# TRABALHANDO OS DADOS\n",
    "\n",
    "* LISTAS\n",
    "* TEXOS\n",
    "* DICIONÁRIOS\n",
    "* RANGE"
   ]
  },
  {
   "cell_type": "code",
   "execution_count": null,
   "id": "b57614d5",
   "metadata": {},
   "outputs": [],
   "source": [
    "for VARIAVEL in range(10):\n",
    "    print(\"=^^=\")"
   ]
  },
  {
   "cell_type": "code",
   "execution_count": null,
   "id": "0bc6cbad",
   "metadata": {},
   "outputs": [],
   "source": [
    "#Trabalhando com listas\n",
    "\n",
    "compras = [\"arroz\", \"picanha\", \"azeitona\", \"chocolate\", \"batata\", \"sushi\", \"papel higiênico\", \"pasta de dentes\", \"vinho\", \"salgadinho\", \"carne moida\", \"leite\"]\n",
    "\n",
    "for item in compras:\n",
    "    print(item)"
   ]
  },
  {
   "cell_type": "code",
   "execution_count": null,
   "id": "0f17c205",
   "metadata": {},
   "outputs": [],
   "source": [
    "for item in compras:\n",
    "    tamanho_minimo = 8\n",
    "    if len(item) < tamanho_minimo:\n",
    "        pass\n",
    "    else:\n",
    "        print(item)"
   ]
  },
  {
   "cell_type": "code",
   "execution_count": null,
   "id": "26ccbb7b",
   "metadata": {},
   "outputs": [],
   "source": [
    "# Desafio 1: Par Impar\n",
    "lista = range(51) # 51 é o argumento\n",
    "for i in lista:    \n",
    "    if (i % 2) == 0:\n",
    "        print(\"{}, par\".format(i))\n",
    "    else:\n",
    "        print(\"{}, impar\".format(i))"
   ]
  },
  {
   "cell_type": "code",
   "execution_count": null,
   "id": "7be3d7ef",
   "metadata": {},
   "outputs": [],
   "source": [
    "list(enumerate(lista))"
   ]
  },
  {
   "cell_type": "code",
   "execution_count": null,
   "id": "3967b53c",
   "metadata": {},
   "outputs": [],
   "source": [
    "frutas = [\"toranja\", \"bergamota\", \"figo\"]\n",
    "for posicao, fruta in enumerate(frutas):\n",
    "    print(posicao + 1, fruta)"
   ]
  },
  {
   "cell_type": "markdown",
   "id": "dfd804e9",
   "metadata": {},
   "source": [
    "# CRIANDO UM MENU"
   ]
  },
  {
   "cell_type": "code",
   "execution_count": null,
   "id": "87b3fb85",
   "metadata": {},
   "outputs": [],
   "source": [
    "# MENU de um restaurante\n",
    "\n",
    "opcoes = [\"chá\", 'chocolate quente', 'espresso', 'capuccino', 'pingado']\n",
    "\n",
    "for posicao, opcao in enumerate(opcoes):\n",
    "    print(f\"[{posicao + 1}] - {opcao}\")\n",
    "    \n",
    "pedido = input(\"Selecione uma das opções acima: \")"
   ]
  },
  {
   "cell_type": "code",
   "execution_count": null,
   "id": "c369b084",
   "metadata": {},
   "outputs": [],
   "source": []
  }
 ],
 "metadata": {
  "kernelspec": {
   "display_name": "Python 3 (ipykernel)",
   "language": "python",
   "name": "python3"
  },
  "language_info": {
   "codemirror_mode": {
    "name": "ipython",
    "version": 3
   },
   "file_extension": ".py",
   "mimetype": "text/x-python",
   "name": "python",
   "nbconvert_exporter": "python",
   "pygments_lexer": "ipython3",
   "version": "3.9.6"
  }
 },
 "nbformat": 4,
 "nbformat_minor": 5
}

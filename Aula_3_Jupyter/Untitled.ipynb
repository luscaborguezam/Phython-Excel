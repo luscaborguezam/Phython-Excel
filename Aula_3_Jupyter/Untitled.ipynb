{
 "cells": [
  {
   "cell_type": "code",
   "execution_count": 2,
   "id": "688e258a",
   "metadata": {},
   "outputs": [
    {
     "name": "stdout",
     "output_type": "stream",
     "text": [
      "hello word\n"
     ]
    }
   ],
   "source": [
    "print(\"hello word\")\n"
   ]
  },
  {
   "cell_type": "code",
   "execution_count": 4,
   "id": "a21d1eda",
   "metadata": {},
   "outputs": [
    {
     "data": {
      "text/plain": [
       "True"
      ]
     },
     "execution_count": 4,
     "metadata": {},
     "output_type": "execute_result"
    }
   ],
   "source": [
    "True\n"
   ]
  },
  {
   "cell_type": "markdown",
   "id": "52335124",
   "metadata": {},
   "source": [
    "# TIPOS DE DADOS "
   ]
  },
  {
   "cell_type": "markdown",
   "id": "c28f5e09",
   "metadata": {},
   "source": [
    "### STRINGS"
   ]
  },
  {
   "cell_type": "code",
   "execution_count": 18,
   "id": "2f0cd5ba",
   "metadata": {},
   "outputs": [
    {
     "data": {
      "text/plain": [
       "'Texto Aspas Triplas Duplas'"
      ]
     },
     "execution_count": 18,
     "metadata": {},
     "output_type": "execute_result"
    }
   ],
   "source": [
    "'TEXTO em aspas simples'.isnumeric()\n",
    "\"TEXTO aspas duplas\".lower()\n",
    "'''TEXTO ASPAS TRIPLAS SIMPLES'''.title()\n",
    "\"\"\"texto aspas triplas duplaS\"\"\".title()\n"
   ]
  },
  {
   "cell_type": "markdown",
   "id": "7559bb31",
   "metadata": {},
   "source": [
    "### CASOS ESPECIAIS DAS STRINGS"
   ]
  },
  {
   "cell_type": "markdown",
   "id": "a9d0544f",
   "metadata": {},
   "source": [
    "ESCAPE CHARECTER"
   ]
  },
  {
   "cell_type": "code",
   "execution_count": 20,
   "id": "30c7c22b",
   "metadata": {},
   "outputs": [
    {
     "data": {
      "text/plain": [
       "'\"don\\'t look at me\"'"
      ]
     },
     "execution_count": 20,
     "metadata": {},
     "output_type": "execute_result"
    }
   ],
   "source": [
    "\"\\\"don't look at me\\\"\" #invisible(invisivel) characters\n"
   ]
  },
  {
   "cell_type": "code",
   "execution_count": 21,
   "id": "f90adb12",
   "metadata": {},
   "outputs": [
    {
     "name": "stdout",
     "output_type": "stream",
     "text": [
      "\"don't look at me\"\n"
     ]
    }
   ],
   "source": [
    "print(\"\\\"don't look at me\\\"\")\n"
   ]
  },
  {
   "cell_type": "code",
   "execution_count": 25,
   "id": "dadc4e28",
   "metadata": {},
   "outputs": [
    {
     "name": "stdout",
     "output_type": "stream",
     "text": [
      "Olá mundo.\n",
      "Meu nome é Lucas\n"
     ]
    }
   ],
   "source": [
    "print(\"Olá mundo.\\nMeu nome é Lucas\")\n"
   ]
  },
  {
   "cell_type": "code",
   "execution_count": 27,
   "id": "1630dc8c",
   "metadata": {},
   "outputs": [
    {
     "name": "stdout",
     "output_type": "stream",
     "text": [
      "Olá mundo.\n",
      "Meu nome é Lucas\n",
      "Olá mundo. \tMeu nome é Lucas\n"
     ]
    }
   ],
   "source": [
    "print(\"Olá mundo.\\nMeu nome é Lucas\")\n",
    "print(\"Olá mundo. \\tMeu nome é Lucas\") #\\t == TAB\n"
   ]
  },
  {
   "cell_type": "markdown",
   "id": "33874016",
   "metadata": {},
   "source": [
    "## DESAFIO 1: em duas linhas imprima boas vindas ao usuário"
   ]
  },
  {
   "cell_type": "code",
   "execution_count": 67,
   "id": "3c9d2f57",
   "metadata": {},
   "outputs": [
    {
     "name": "stdout",
     "output_type": "stream",
     "text": [
      "Digite seu nome e sua idade: luscas\n",
      "\n",
      "Seja bem vindo luscas sua idade é luscas\n"
     ]
    }
   ],
   "source": [
    "nome = str(input(\"Digite seu nome e sua idade: \")).strip().split()\n",
    "print(\"\\nSeja bem vindo {} sua idade é {}\".format(nome[0], nome[-1]))\n"
   ]
  },
  {
   "cell_type": "markdown",
   "id": "cb0c3068",
   "metadata": {},
   "source": [
    "##### Solução"
   ]
  },
  {
   "cell_type": "code",
   "execution_count": 66,
   "id": "856ae5d8",
   "metadata": {},
   "outputs": [
    {
     "name": "stdout",
     "output_type": "stream",
     "text": [
      "Digite seu nome e sua idade: lucas asd\n",
      "\n",
      "Seja bem vindo lucas sua idade é asd\n"
     ]
    }
   ],
   "source": [
    "nome, idade = str(input(\"Digite seu nome e sua idade: \")).strip().split()\n",
    "print(\"\\nSeja bem vindo {} sua idade é {}\".format(nome, idade))\n"
   ]
  },
  {
   "cell_type": "markdown",
   "id": "dfaa8882",
   "metadata": {},
   "source": [
    "### SPLIT "
   ]
  },
  {
   "cell_type": "code",
   "execution_count": 68,
   "id": "4445ac7d",
   "metadata": {},
   "outputs": [
    {
     "data": {
      "text/plain": [
       "['nome', 'idade', 'cpf', 'email']"
      ]
     },
     "execution_count": 68,
     "metadata": {},
     "output_type": "execute_result"
    }
   ],
   "source": [
    "\"nome,cidade,cpf,email\".split()\n",
    "\"nome,idade,cpf,email\".split(\",\")\n"
   ]
  },
  {
   "cell_type": "markdown",
   "id": "66aceec9",
   "metadata": {},
   "source": [
    "## Manipulando Strings/Textos"
   ]
  },
  {
   "cell_type": "code",
   "execution_count": null,
   "id": "8c844362",
   "metadata": {},
   "outputs": [],
   "source": [
    "estado=\"\"\"\n",
    "COD,NOME,SIGLA\n",
    "35,São Paulo, SP\n",
    "41,Paraná, PR\n",
    "42,Santa Catarina, SC\n",
    "43,Rio Grande do Sul, RS\n",
    "50,Mato Grosso do Sul, MS\n",
    "11,Rondônia, RO\n",
    "12,Acre, AC\n",
    "13,Amazonas, AM\n",
    "14,Roraima, RR\n",
    "15,Pará, PA\n",
    "16,Amapá, AP\n",
    "17,Tocantins, TO\n",
    "21,Maranhão, MA\n",
    "24,Rio Grande do Norte, RN\n",
    "25,Paraíba, PB\n",
    "26,Pernambuco, PE\n",
    "27,Alagoas, AL\n",
    "28,Sergipe, SE\n",
    "29,Bahia, BA\n",
    "31,Minas Gerais, MG\n",
    "33,Rio de Janeiro, RJ\n",
    "51,Mato Grosso, MT\n",
    "52,Goiás, GO\n",
    "53,Distrito Federal, DF\n",
    "22,Piauí, PI\n",
    "23,Ceará, CE\n",
    "32,Espírito Santo, ES\n",
    "\"\"\"\n",
    "print(estado)\n"
   ]
  },
  {
   "cell_type": "code",
   "execution_count": null,
   "id": "9c8a2323",
   "metadata": {},
   "outputs": [],
   "source": [
    "estado.split()\n"
   ]
  },
  {
   "cell_type": "code",
   "execution_count": null,
   "id": "fc31225f",
   "metadata": {},
   "outputs": [],
   "source": [
    "estado.split(\"\\n\")\n"
   ]
  },
  {
   "cell_type": "code",
   "execution_count": 88,
   "id": "3b9ebbdd",
   "metadata": {},
   "outputs": [],
   "source": [
    "#del variavel[] deleta item\n",
    "#variaveis.pop(1) mostra o item q foi deletada"
   ]
  },
  {
   "cell_type": "code",
   "execution_count": null,
   "id": "6fcffaec",
   "metadata": {},
   "outputs": [],
   "source": [
    "alunos = [\n",
    "    \"pablo\",\n",
    "    \"nicolas normal\",\n",
    "    \"raquel\",\n",
    "    \"patrickinha\",\n",
    "    \"lucas\",\n",
    "    \"rafezes\",\n",
    "    \"rodolpho\",\n",
    "    \"natali\",\n",
    "    \"victor\",\n",
    "    \"thiago\",\n",
    "    \"roberval\",\n",
    "    \"vinicius\",\n",
    "    \"marcos\",\n",
    "    \"rodrigo\",\n",
    "    \"renan\",\n",
    "    \"nicolas f.\",\n",
    "    \"thalith\",\n",
    "    \"watuse\",\n",
    "    \"victoria\"\n",
    "]"
   ]
  },
  {
   "cell_type": "code",
   "execution_count": 92,
   "id": "cb2d2a92",
   "metadata": {},
   "outputs": [
    {
     "data": {
      "text/plain": [
       "'rafael'"
      ]
     },
     "execution_count": 92,
     "metadata": {},
     "output_type": "execute_result"
    }
   ],
   "source": [
    "import random\n",
    "\n",
    "alunos.pop(alunos.index(random.choice(alunos)))\n"
   ]
  },
  {
   "cell_type": "markdown",
   "id": "a5a8c5b4",
   "metadata": {},
   "source": [
    "## REQUISITOS PARA SER UM DEV DE RESPEITO"
   ]
  },
  {
   "cell_type": "markdown",
   "id": "f4ca2512",
   "metadata": {},
   "source": [
    "* Python> lógica de programação, portifólio, projetos e softwares criados (que resolvam problemas uteís)\n",
    "* Banco de dados: CSV, SQL: SQLlite3"
   ]
  },
  {
   "cell_type": "markdown",
   "id": "0e352652",
   "metadata": {},
   "source": [
    "### OUTROS TIPOS DE STRINGS"
   ]
  },
  {
   "cell_type": "code",
   "execution_count": 1,
   "id": "9458821c",
   "metadata": {},
   "outputs": [
    {
     "data": {
      "text/plain": [
       "b'lucas'"
      ]
     },
     "execution_count": 1,
     "metadata": {},
     "output_type": "execute_result"
    }
   ],
   "source": [
    "r\"raw string\" # texto seco, cru, literal\n",
    "b\"encoded text\" # texto binarizado, encodado\n",
    "\"lucas\".encode(\"ascii\") #converte string para binário\n"
   ]
  },
  {
   "cell_type": "markdown",
   "id": "e42a41cf",
   "metadata": {},
   "source": [
    "### LISTA-MUTÀVEIS"
   ]
  },
  {
   "cell_type": "code",
   "execution_count": 1,
   "id": "d9af9ceb",
   "metadata": {},
   "outputs": [],
   "source": [
    "frutas = [\"tomate\", \"maça\", \"morango\", \"banana\", \"pêra\", \"pêssego\"]\n"
   ]
  },
  {
   "cell_type": "code",
   "execution_count": 2,
   "id": "de9c815e",
   "metadata": {},
   "outputs": [
    {
     "name": "stderr",
     "output_type": "stream",
     "text": [
      "\n",
      "KeyboardInterrupt\n",
      "\n"
     ]
    }
   ],
   "source": [
    "nome, sobrenome = input(\"Digite seu nome e sobrenome: \").split()\n",
    "\n",
    "print(f\"{nome[0]}{sobrenome[0]}\")\n",
    "print(nome[0]+sobrenome[0])\n",
    "print(nome[0], sobrenome[0], sep=\"\")\n"
   ]
  },
  {
   "cell_type": "markdown",
   "id": "4bc83129",
   "metadata": {},
   "source": [
    "## FUNÇÕES"
   ]
  },
  {
   "cell_type": "markdown",
   "id": "cae75675",
   "metadata": {},
   "source": [
    "##### CRIANDO FUNÇÕES PRÓPRIAS"
   ]
  },
  {
   "cell_type": "markdown",
   "id": "5e91c120",
   "metadata": {},
   "source": [
    "* Função dummy"
   ]
  },
  {
   "cell_type": "code",
   "execution_count": null,
   "id": "fc317d39",
   "metadata": {},
   "outputs": [],
   "source": [
    "#criação de função\n",
    "def minha_funcao():\n",
    "    ...#Ellipsis#1 #... # pass\n",
    "\n",
    "#chamando função\n",
    "minha_funcao() #ou .minha_funcao\n"
   ]
  },
  {
   "cell_type": "code",
   "execution_count": 13,
   "id": "fbc7d6cd",
   "metadata": {},
   "outputs": [
    {
     "name": "stdout",
     "output_type": "stream",
     "text": [
      "talvez\n"
     ]
    }
   ],
   "source": [
    "#parêmetro\n",
    "def func2(parametro1=\"\", parametro2=\"\"):# definindo um valor padrão com =\"\" ou =0...\n",
    "    return parametro1 + parametro2\n",
    "\n",
    "valor = func2(\"olá\", \"talvez\")\n",
    "print(valor)"
   ]
  },
  {
   "cell_type": "code",
   "execution_count": null,
   "id": "8ce79306",
   "metadata": {},
   "outputs": [],
   "source": []
  }
 ],
 "metadata": {
  "kernelspec": {
   "display_name": "Python 3 (ipykernel)",
   "language": "python",
   "name": "python3"
  },
  "language_info": {
   "codemirror_mode": {
    "name": "ipython",
    "version": 3
   },
   "file_extension": ".py",
   "mimetype": "text/x-python",
   "name": "python",
   "nbconvert_exporter": "python",
   "pygments_lexer": "ipython3",
   "version": "3.9.6"
  }
 },
 "nbformat": 4,
 "nbformat_minor": 5
}

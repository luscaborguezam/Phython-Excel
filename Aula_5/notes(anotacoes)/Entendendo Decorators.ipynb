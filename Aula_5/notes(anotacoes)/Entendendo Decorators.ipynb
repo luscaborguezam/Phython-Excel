{
 "cells": [
  {
   "cell_type": "markdown",
   "id": "a167419a",
   "metadata": {},
   "source": [
    "# DECORATOR\n",
    "\n",
    "* O uqe são decorators?\n",
    "* Como Aplicar decorators?\n",
    "* Decorator como classe?\n",
    "*Flask"
   ]
  },
  {
   "cell_type": "markdown",
   "id": "5268db27",
   "metadata": {},
   "source": [
    "Em nível de função lambda, segue exemplo:"
   ]
  },
  {
   "cell_type": "code",
   "execution_count": 9,
   "id": "ee28ec4d",
   "metadata": {},
   "outputs": [
    {
     "name": "stdout",
     "output_type": "stream",
     "text": [
      "Cavalo\n"
     ]
    }
   ],
   "source": [
    "# Uma função que retorna outra função (decorator)\n",
    "pegar_cep = lambda : print\n",
    "pegar_cep()\n",
    "pegar_cep()(\"Cavalo\") # o pegar_cep() é convertido para print"
   ]
  },
  {
   "cell_type": "markdown",
   "id": "dd275f11",
   "metadata": {},
   "source": [
    "### Criando Funções"
   ]
  },
  {
   "cell_type": "code",
   "execution_count": 10,
   "id": "78e6bec8",
   "metadata": {},
   "outputs": [],
   "source": [
    "def func():\n",
    "    pass"
   ]
  },
  {
   "cell_type": "markdown",
   "id": "45bf56f5",
   "metadata": {},
   "source": [
    "### Função que retorna valor"
   ]
  },
  {
   "cell_type": "code",
   "execution_count": 13,
   "id": "142949d1",
   "metadata": {},
   "outputs": [
    {
     "data": {
      "text/plain": [
       "'Valor retornado'"
      ]
     },
     "execution_count": 13,
     "metadata": {},
     "output_type": "execute_result"
    }
   ],
   "source": [
    "def retorna_valor():\n",
    "    return \"Valor retornado\"\n",
    "\n",
    "retorna_valor()"
   ]
  },
  {
   "cell_type": "markdown",
   "id": "f901fb04",
   "metadata": {},
   "source": [
    "#### Função que recebe e retorna valores\n",
    "\n",
    "* Função com parâmetro(s): Função com variável"
   ]
  },
  {
   "cell_type": "code",
   "execution_count": 17,
   "id": "c00e978a",
   "metadata": {},
   "outputs": [
    {
     "name": "stdout",
     "output_type": "stream",
     "text": [
      "Fatec Fatec Fatec \n",
      "6\n"
     ]
    }
   ],
   "source": [
    "def func2(parametro):\n",
    "    return parametro * 3\n",
    "\n",
    "print(func2(\"Fatec \"))\n",
    "print(func2(2))"
   ]
  },
  {
   "cell_type": "markdown",
   "id": "db5e0c1b",
   "metadata": {},
   "source": [
    "### Crie uma função que quando chamada, e passo um valor inteiro  retorne o mesmo - 1 (menos um)\n",
    "### se o valor passado for um float trukate 1.2 -> 1\n",
    "### Se o valor passado for texto retorne :)"
   ]
  },
  {
   "cell_type": "code",
   "execution_count": 29,
   "id": "31eaa071",
   "metadata": {},
   "outputs": [
    {
     "name": "stdout",
     "output_type": "stream",
     "text": [
      ":)\n"
     ]
    }
   ],
   "source": [
    "def func3(parametro):\n",
    "    if type(parametro) == int:\n",
    "        return parametro - 1 # round(parametro), int(parametro)\n",
    "    \n",
    "    elif type(parametro) == float:\n",
    "        return print(\"{:.0f}\".format(parametro))\n",
    "    \n",
    "    elif parametro.isalpha():\n",
    "        return print(\":)\")\n",
    "    \n",
    "func3(\"aaa\")"
   ]
  },
  {
   "cell_type": "code",
   "execution_count": 74,
   "id": "577e5d94",
   "metadata": {},
   "outputs": [
    {
     "data": {
      "text/plain": [
       "[7, 7, 26, 32, 47, 57]"
      ]
     },
     "execution_count": 74,
     "metadata": {},
     "output_type": "execute_result"
    }
   ],
   "source": [
    "#Crie uma função que retorne 6 números aleatórios\n",
    "import random\n",
    "def mega_sena():\n",
    "    digitos = []\n",
    "    for i in range(6):\n",
    "        al = random.randint(1, 60)\n",
    "        digitos.append(al) # append() adiciona a variavel\n",
    "        digitos.sort() #ordena em ordem crescente/ forma decresente sort(reverse=True)\n",
    "    return digitos\n",
    "    \n",
    "mega_sena()"
   ]
  }
 ],
 "metadata": {
  "kernelspec": {
   "display_name": "Python 3 (ipykernel)",
   "language": "python",
   "name": "python3"
  },
  "language_info": {
   "codemirror_mode": {
    "name": "ipython",
    "version": 3
   },
   "file_extension": ".py",
   "mimetype": "text/x-python",
   "name": "python",
   "nbconvert_exporter": "python",
   "pygments_lexer": "ipython3",
   "version": "3.9.6"
  }
 },
 "nbformat": 4,
 "nbformat_minor": 5
}
